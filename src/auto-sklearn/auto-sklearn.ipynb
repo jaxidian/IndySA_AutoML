{
  "cells": [
    {
      "metadata": {
        "collapsed": true
      },
      "cell_type": "markdown",
      "source": "# auto-sklearn\n\n- https://github.com/automl/auto-sklearn\n- https://automl.github.io/auto-sklearn/master/"
    },
    {
      "metadata": {
        "trusted": true
      },
      "cell_type": "code",
      "source": "%%time\n!pip uninstall -y scikit-image azureml-train-automl azureml-opendatasets azureml-automl-core\n!conda install swig --yes\n!pip install auto-sklearn",
      "execution_count": 1,
      "outputs": [
        {
          "output_type": "stream",
          "text": "Uninstalling scikit-image-0.16.2:\n  Successfully uninstalled scikit-image-0.16.2\nUninstalling azureml-train-automl-1.0.72:\n  Successfully uninstalled azureml-train-automl-1.0.72\nUninstalling azureml-opendatasets-1.0.72.1:\n  Successfully uninstalled azureml-opendatasets-1.0.72.1\nUninstalling azureml-automl-core-1.0.72.1:\n  Successfully uninstalled azureml-automl-core-1.0.72.1\nSolving environment: done\n\n## Package Plan ##\n\n  environment location: /home/nbuser/anaconda3_501\n\n  added / updated specs: \n    - swig\n\n\nThe following packages will be downloaded:\n\n    package                    |            build\n    ---------------------------|-----------------\n    conda-4.7.12               |           py36_0         3.0 MB\n    swig-3.0.12                |       h38cdd7d_3         1.3 MB\n    conda-package-handling-1.6.0|   py36h7b6447c_0         871 KB\n    ------------------------------------------------------------\n                                           Total:         5.1 MB\n\nThe following NEW packages will be INSTALLED:\n\n    conda-package-handling: 1.6.0-py36h7b6447c_0\n    swig:                   3.0.12-h38cdd7d_3   \n\nThe following packages will be UPDATED:\n\n    conda:                  4.5.11-py36_0        --> 4.7.12-py36_0\n\n\nDownloading and Extracting Packages\nconda-4.7.12         | 3.0 MB    | ##################################### | 100% \nswig-3.0.12          | 1.3 MB    | ##################################### | 100% \nconda-package-handli | 871 KB    | ##################################### | 100% \nPreparing transaction: done\nVerifying transaction: done\nExecuting transaction: done\nCollecting auto-sklearn\n\u001b[?25l  Downloading https://files.pythonhosted.org/packages/1d/99/27caac4f6804be48722158e31c630e0737110581774df0615a36b21239aa/auto-sklearn-0.5.2.tar.gz (3.4MB)\n\u001b[K     |████████████████████████████████| 3.4MB 1.8MB/s eta 0:00:01\n\u001b[?25hRequirement already satisfied: setuptools in /home/nbuser/anaconda3_501/lib/python3.6/site-packages (from auto-sklearn) (41.6.0)\nRequirement already satisfied: nose in /home/nbuser/anaconda3_501/lib/python3.6/site-packages (from auto-sklearn) (1.3.7)\nRequirement already satisfied: Cython in /home/nbuser/anaconda3_501/lib/python3.6/site-packages (from auto-sklearn) (0.29.14)\nRequirement already satisfied: numpy>=1.9.0 in /home/nbuser/anaconda3_501/lib/python3.6/site-packages (from auto-sklearn) (1.16.2)\nRequirement already satisfied: scipy>=0.14.1 in /home/nbuser/anaconda3_501/lib/python3.6/site-packages (from auto-sklearn) (1.1.0)\nCollecting scikit-learn<0.20,>=0.19\n\u001b[?25l  Downloading https://files.pythonhosted.org/packages/f9/c8/8db4108aba5e2166cd2ea4eafa1a4b82f89240a1fa85733029cc2358ad1f/scikit_learn-0.19.2-cp36-cp36m-manylinux1_x86_64.whl (4.9MB)\n\u001b[K     |████████████████████████████████| 4.9MB 12.1MB/s eta 0:00:01\n\u001b[?25hCollecting xgboost>=0.80\n\u001b[?25l  Downloading https://files.pythonhosted.org/packages/c1/24/5fe7237b2eca13ee0cfb100bec8c23f4e69ce9df852a64b0493d49dae4e0/xgboost-0.90-py2.py3-none-manylinux1_x86_64.whl (142.8MB)\n\u001b[K     |████████████████████████████████| 142.8MB 27kB/s s eta 0:00:01  |█▍                              | 6.1MB 9.9MB/s eta 0:00:14     |██                              | 8.6MB 9.9MB/s eta 0:00:14                 | 48.5MB 11.8MB/s eta 0:00:08     |█████████████████▎              | 77.3MB 10.6MB/s eta 0:00:07/s eta 0:00:08/s eta 0:00:07MB/s eta 0:00:06     |██████████████████████▏         | 99.1MB 15.1MB/s eta 0:00:03     |██████████████████████████▊     | 119.0MB 14.1MB/s eta 0:00:02  | 119.9MB 14.1MB/s eta 0:00:02     |███████████████████████████▊    | 123.6MB 12.5MB/s eta 0:00:02     |██████████████████████████████  | 134.3MB 12.5MB/s eta 0:00:01\n\u001b[?25hRequirement already satisfied: lockfile in /home/nbuser/anaconda3_501/lib/python3.6/site-packages (from auto-sklearn) (0.12.2)\nRequirement already satisfied: joblib in /home/nbuser/anaconda3_501/lib/python3.6/site-packages (from auto-sklearn) (0.14.0)\nRequirement already satisfied: psutil in /home/nbuser/anaconda3_501/lib/python3.6/site-packages (from auto-sklearn) (5.4.7)\nRequirement already satisfied: pyyaml in /home/nbuser/anaconda3_501/lib/python3.6/site-packages (from auto-sklearn) (3.13)\nRequirement already satisfied: liac-arff in /home/nbuser/anaconda3_501/lib/python3.6/site-packages (from auto-sklearn) (2.4.0)\nRequirement already satisfied: pandas in /home/nbuser/anaconda3_501/lib/python3.6/site-packages (from auto-sklearn) (0.23.4)\nRequirement already satisfied: ConfigSpace<0.5,>=0.4.0 in /home/nbuser/anaconda3_501/lib/python3.6/site-packages (from auto-sklearn) (0.4.11)\nRequirement already satisfied: pynisher>=0.4.2 in /home/nbuser/anaconda3_501/lib/python3.6/site-packages (from auto-sklearn) (0.5.0)\nCollecting pyrfr<0.8,>=0.7\n\u001b[?25l  Downloading https://files.pythonhosted.org/packages/c3/c6/c555cfa3c7d0078dded091d4901ed52344bbb925077aa70b871faf35fd58/pyrfr-0.7.4.tar.gz (291kB)\n\u001b[K     |████████████████████████████████| 296kB 11.5MB/s eta 0:00:01\n\u001b[?25hProcessing /home/nbuser/.cache/pip/wheels/12/52/83/d2d66a840968025d072ddb1cd776fdc5eb5e337e1cc887bc3f/smac-0.8.0-cp36-none-any.whl\nRequirement already satisfied: pytz>=2011k in /home/nbuser/anaconda3_501/lib/python3.6/site-packages (from pandas->auto-sklearn) (2019.3)\nRequirement already satisfied: python-dateutil>=2.5.0 in /home/nbuser/anaconda3_501/lib/python3.6/site-packages (from pandas->auto-sklearn) (2.8.1)\nRequirement already satisfied: pyparsing in /home/nbuser/anaconda3_501/lib/python3.6/site-packages (from ConfigSpace<0.5,>=0.4.0->auto-sklearn) (2.3.0)\nRequirement already satisfied: docutils>=0.3 in /home/nbuser/anaconda3_501/lib/python3.6/site-packages (from pynisher>=0.4.2->auto-sklearn) (0.14)\nRequirement already satisfied: six in /home/nbuser/anaconda3_501/lib/python3.6/site-packages (from smac==0.8->auto-sklearn) (1.11.0)\nCollecting sphinx-rtd-theme\n  Using cached https://files.pythonhosted.org/packages/60/b4/4df37087a1d36755e3a3bfd2a30263f358d2dea21938240fa02313d45f51/sphinx_rtd_theme-0.4.3-py2.py3-none-any.whl\nRequirement already satisfied: sphinx in /home/nbuser/anaconda3_501/lib/python3.6/site-packages (from smac==0.8->auto-sklearn) (1.8.1)\nRequirement already satisfied: typing in /home/nbuser/anaconda3_501/lib/python3.6/site-packages (from smac==0.8->auto-sklearn) (3.7.4.1)\nRequirement already satisfied: Jinja2>=2.3 in /home/nbuser/anaconda3_501/lib/python3.6/site-packages (from sphinx->smac==0.8->auto-sklearn) (2.10)\nRequirement already satisfied: Pygments>=2.0 in /home/nbuser/anaconda3_501/lib/python3.6/site-packages (from sphinx->smac==0.8->auto-sklearn) (2.2.0)\nRequirement already satisfied: snowballstemmer>=1.1 in /home/nbuser/anaconda3_501/lib/python3.6/site-packages (from sphinx->smac==0.8->auto-sklearn) (1.2.1)\nRequirement already satisfied: babel!=2.0,>=1.3 in /home/nbuser/anaconda3_501/lib/python3.6/site-packages (from sphinx->smac==0.8->auto-sklearn) (2.6.0)\nRequirement already satisfied: alabaster<0.8,>=0.7 in /home/nbuser/anaconda3_501/lib/python3.6/site-packages (from sphinx->smac==0.8->auto-sklearn) (0.7.11)\nRequirement already satisfied: imagesize in /home/nbuser/anaconda3_501/lib/python3.6/site-packages (from sphinx->smac==0.8->auto-sklearn) (1.1.0)\nRequirement already satisfied: requests>=2.0.0 in /home/nbuser/anaconda3_501/lib/python3.6/site-packages (from sphinx->smac==0.8->auto-sklearn) (2.22.0)\nRequirement already satisfied: packaging in /home/nbuser/anaconda3_501/lib/python3.6/site-packages (from sphinx->smac==0.8->auto-sklearn) (18.0)\nRequirement already satisfied: sphinxcontrib-websupport in /home/nbuser/anaconda3_501/lib/python3.6/site-packages (from sphinx->smac==0.8->auto-sklearn) (1.1.0)\nRequirement already satisfied: MarkupSafe>=0.23 in /home/nbuser/anaconda3_501/lib/python3.6/site-packages (from Jinja2>=2.3->sphinx->smac==0.8->auto-sklearn) (1.1.0)\nRequirement already satisfied: urllib3!=1.25.0,!=1.25.1,<1.26,>=1.21.1 in /home/nbuser/anaconda3_501/lib/python3.6/site-packages (from requests>=2.0.0->sphinx->smac==0.8->auto-sklearn) (1.23)\nRequirement already satisfied: chardet<3.1.0,>=3.0.2 in /home/nbuser/anaconda3_501/lib/python3.6/site-packages (from requests>=2.0.0->sphinx->smac==0.8->auto-sklearn) (3.0.4)\nRequirement already satisfied: certifi>=2017.4.17 in /home/nbuser/anaconda3_501/lib/python3.6/site-packages (from requests>=2.0.0->sphinx->smac==0.8->auto-sklearn) (2018.10.15)\nRequirement already satisfied: idna<2.9,>=2.5 in /home/nbuser/anaconda3_501/lib/python3.6/site-packages (from requests>=2.0.0->sphinx->smac==0.8->auto-sklearn) (2.7)\nBuilding wheels for collected packages: auto-sklearn, pyrfr\n",
          "name": "stdout"
        },
        {
          "output_type": "stream",
          "text": "  Building wheel for auto-sklearn (setup.py) ... \u001b[?25ldone\n\u001b[?25h  Created wheel for auto-sklearn: filename=auto_sklearn-0.5.2-cp36-cp36m-linux_x86_64.whl size=3728916 sha256=993693c21e337f48360a4a70db76589e8c88a54941e6a4c96f0585cce22727dc\n  Stored in directory: /home/nbuser/.cache/pip/wheels/67/21/43/182fed664b6474f88600c110c4ebd254d6256ba59175cef3fd\n  Building wheel for pyrfr (setup.py) ... \u001b[?25ldone\n\u001b[?25h  Created wheel for pyrfr: filename=pyrfr-0.7.4-cp36-cp36m-linux_x86_64.whl size=2450843 sha256=9069601e56f91925059f5a5f05a571697e60d48dd462189780dfb6c30a9e2e98\n  Stored in directory: /home/nbuser/.cache/pip/wheels/fb/98/fd/b1d53cab6d5ed836980777d9733d7e549d82a727650eed6f6d\nSuccessfully built auto-sklearn pyrfr\n\u001b[31mERROR: shap 0.29.3 requires scikit-image, which is not installed.\u001b[0m\nInstalling collected packages: scikit-learn, xgboost, pyrfr, sphinx-rtd-theme, smac, auto-sklearn\n  Found existing installation: scikit-learn 0.21.3\n    Uninstalling scikit-learn-0.21.3:\n      Successfully uninstalled scikit-learn-0.21.3\nSuccessfully installed auto-sklearn-0.5.2 pyrfr-0.7.4 scikit-learn-0.19.2 smac-0.8.0 sphinx-rtd-theme-0.4.3 xgboost-0.90\nCPU times: user 12.7 s, sys: 3.98 s, total: 16.7 s\nWall time: 9min 1s\n",
          "name": "stdout"
        }
      ]
    },
    {
      "metadata": {
        "trusted": true
      },
      "cell_type": "code",
      "source": "",
      "execution_count": null,
      "outputs": []
    },
    {
      "metadata": {
        "trusted": true
      },
      "cell_type": "code",
      "source": "",
      "execution_count": null,
      "outputs": []
    }
  ],
  "metadata": {
    "kernelspec": {
      "name": "python36",
      "display_name": "Python 3.6",
      "language": "python"
    },
    "language_info": {
      "mimetype": "text/x-python",
      "nbconvert_exporter": "python",
      "name": "python",
      "pygments_lexer": "ipython3",
      "version": "3.6.6",
      "file_extension": ".py",
      "codemirror_mode": {
        "version": 3,
        "name": "ipython"
      }
    }
  },
  "nbformat": 4,
  "nbformat_minor": 2
}