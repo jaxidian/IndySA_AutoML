{
  "cells": [
    {
      "cell_type": "markdown",
      "metadata": {
        "collapsed": true
      },
      "source": [
        "# auto-sklearn\n",
        "\n",
        "- <https://github.com/automl/auto-sklearn>\n",
        "- <https://automl.github.io/auto-sklearn/master/>\n",
        "- NOTE: This only runs on *nix systems at this time.\n",
        "- More information here: <https://automl.github.io/auto-sklearn/master/installation.html#windows-osx-compatibility>\n",
        "- WSL tips here: <https://gist.github.com/kauffmanes/5e74916617f9993bc3479f401dfec7da>\n"
      ]
    },
    {
      "cell_type": "code",
      "execution_count": null,
      "metadata": {},
      "outputs": [
        {
          "evalue": "Error: Jupyter cannot be started. Error attempting to locate jupyter: Error: Module 'notebook' not installed.",
          "output_type": "error"
        }
      ],
      "source": [
        "%%time\n",
        "#!pip uninstall -y scikit-image azureml-train-automl azureml-opendatasets azureml-automl-core\n",
        "!conda install swig --yes\n",
        "!pip install auto-sklearn"
      ]
    },
    {
      "cell_type": "code",
      "execution_count": null,
      "metadata": {
        "trusted": true
      },
      "outputs": [],
      "source": []
    },
    {
      "cell_type": "code",
      "execution_count": null,
      "metadata": {
        "trusted": true
      },
      "outputs": [],
      "source": []
    }
  ],
  "metadata": {
    "kernelspec": {
      "name": "python36",
      "display_name": "Python 3.6",
      "language": "python"
    },
    "language_info": {
      "mimetype": "text/x-python",
      "nbconvert_exporter": "python",
      "name": "python",
      "pygments_lexer": "ipython3",
      "version": "3.6.6",
      "file_extension": ".py",
      "codemirror_mode": {
        "version": 3,
        "name": "ipython"
      }
    }
  },
  "nbformat": 4,
  "nbformat_minor": 2
}