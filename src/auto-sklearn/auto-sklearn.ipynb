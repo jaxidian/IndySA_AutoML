{
  "cells": [
    {
      "cell_type": "markdown",
      "metadata": {
        "collapsed": true
      },
      "outputs": [],
      "source": [
        "# auto-sklearn\n",
        "\n",
        "- <https://github.com/automl/auto-sklearn>\n",
        "- <https://automl.github.io/auto-sklearn/master/>\n",
        "- NOTE: This only runs on *nix systems at this time.\n",
        "- More information here: <https://automl.github.io/auto-sklearn/master/installation.html#windows-osx-compatibility>\n",
        "- WSL tips here: <https://gist.github.com/kauffmanes/5e74916617f9993bc3479f401dfec7da>\n"
      ]
    },
    {
      "cell_type": "code",
      "execution_count": 5,
      "metadata": {},
      "outputs": [
        {
          "name": "stdout",
          "output_type": "stream",
          "text": "Collecting package metadata (current_done\ndone\n\n# All requested packages already installed.\n\nCollecting auto-sklearn\n  Using cached https://files.pythonhosted.org/packages/1d/99/27caac4f6804be48722158e31c630e0737110581774df0615a36b21239aa/auto-sklearn-0.5.2.tar.gz\nRequirement already satisfied: setuptools in /home/shane/anaconda3/lib/python3.7/site-packages (from auto-sklearn) (41.4.0)\nRequirement already satisfied: nose in /home/shane/anaconda3/lib/python3.7/site-packages (from auto-sklearn) (1.3.7)\nRequirement already satisfied: Cython in /home/shane/anaconda3/lib/python3.7/site-packages (from auto-sklearn) (0.29.13)\nRequirement already satisfied: numpy>=1.9.0 in /home/shane/anaconda3/lib/python3.7/site-packages (from auto-sklearn) (1.17.2)\nRequirement already satisfied: scipy>=0.14.1 in /home/shane/anaconda3/lib/python3.7/site-packages (from auto-sklearn) (1.3.1)\nRequirement already satisfied: scikit-learn<0.20,>=0.19 in /home/shane/anaconda3/lib/python3.7/site-packages (from auto-sklearn) (0.19.2)\nRequirement already satisfied: xgboost>=0.80 in /home/shane/anaconda3/lib/python3.7/site-packages (from auto-sklearn) (0.90)\nRequirement already satisfied: lockfile in /home/shane/anaconda3/lib/python3.7/site-packages (from auto-sklearn) (0.12.2)\nRequirement already satisfied: joblib in /home/shane/anaconda3/lib/python3.7/site-packages (from auto-sklearn) (0.13.2)\nRequirement already satisfied: psutil in /home/shane/anaconda3/lib/python3.7/site-packages (from auto-sklearn) (5.6.3)\nRequirement already satisfied: pyyaml in /home/shane/anaconda3/lib/python3.7/site-packages (from auto-sklearn) (5.1.2)\nRequirement already satisfied: liac-arff in /home/shane/anaconda3/lib/python3.7/site-packages (from auto-sklearn) (2.4.0)\nRequirement already satisfied: pandas in /home/shane/anaconda3/lib/python3.7/site-packages (from auto-sklearn) (0.25.1)\nCollecting ConfigSpace<0.5,>=0.4.0 (from auto-sklearn)\n  Using cached https://files.pythonhosted.org/packages/be/07/ebb7c6c6d03c82ffe6314161f2c8da32599c841e74b08f5c23812fee0e6f/ConfigSpace-0.4.11.tar.gz\nCollecting pynisher>=0.4.2 (from auto-sklearn)\nCollecting pyrfr<0.8,>=0.7 (from auto-sklearn)\n  Using cached https://files.pythonhosted.org/packages/c3/c6/c555cfa3c7d0078dded091d4901ed52344bbb925077aa70b871faf35fd58/pyrfr-0.7.4.tar.gz\nCollecting smac==0.8 (from auto-sklearn)\nRequirement already satisfied: pytz>=2017.2 in /home/shane/anaconda3/lib/python3.7/site-packages (from pandas->auto-sklearn) (2019.3)\nRequirement already satisfied: python-dateutil>=2.6.1 in /home/shane/anaconda3/lib/python3.7/site-packages (from pandas->auto-sklearn) (2.8.0)\nRequirement already satisfied: pyparsing in /home/shane/anaconda3/lib/python3.7/site-packages (from ConfigSpace<0.5,>=0.4.0->auto-sklearn) (2.4.2)\nRequirement already satisfied: docutils>=0.3 in /home/shane/anaconda3/lib/python3.7/site-packages (from pynisher>=0.4.2->auto-sklearn) (0.15.2)\nRequirement already satisfied: six in /home/shane/anaconda3/lib/python3.7/site-packages (from smac==0.8->auto-sklearn) (1.12.0)\nRequirement already satisfied: sphinx in /home/shane/anaconda3/lib/python3.7/site-packages (from smac==0.8->auto-sklearn) (2.2.0)\nCollecting typing (from smac==0.8->auto-sklearn)\n  Using cached https://files.pythonhosted.org/packages/fe/2e/b480ee1b75e6d17d2993738670e75c1feeb9ff7f64452153cf018051cc92/typing-3.7.4.1-py3-none-any.whl\nCollecting sphinx-rtd-theme (from smac==0.8->auto-sklearn)\n  Using cached https://files.pythonhosted.org/packages/60/b4/4df37087a1d36755e3a3bfd2a30263f358d2dea21938240fa02313d45f51/sphinx_rtd_theme-0.4.3-py2.py3-none-any.whl\nRequirement already satisfied: sphinxcontrib-devhelp in /home/shane/anaconda3/lib/python3.7/site-packages (from sphinx->smac==0.8->auto-sklearn) (1.0.1)\nRequirement already satisfied: packaging in /home/shane/anaconda3/lib/python3.7/site-packages (from sphinx->smac==0.8->auto-sklearn) (19.2)\nRequirement already satisfied: sphinxcontrib-qthelp in /home/shane/anaconda3/lib/python3.7/site-packages (from sphinx->smac==0.8->auto-sklearn) (1.0.2)\nRequirement already satisfied: Jinja2>=2.3 in /home/shane/anaconda3/lib/python3.7/site-packages (from sphinx->smac==0.8->auto-sklearn) (2.10.3)\nRequirement already satisfied: alabaster<0.8,>=0.7 in /home/shane/anaconda3/lib/python3.7/site-packages (from sphinx->smac==0.8->auto-sklearn) (0.7.12)\nRequirement already satisfied: requests>=2.5.0 in /home/shane/anaconda3/lib/python3.7/site-packages (from sphinx->smac==0.8->auto-sklearn) (2.22.0)\nRequirement already satisfied: sphinxcontrib-applehelp in /home/shane/anaconda3/lib/python3.7/site-packages (from sphinx->smac==0.8->auto-sklearn) (1.0.1)\nRequirement already satisfied: babel!=2.0,>=1.3 in /home/shane/anaconda3/lib/python3.7/site-packages (from sphinx->smac==0.8->auto-sklearn) (2.7.0)\nRequirement already satisfied: sphinxcontrib-htmlhelp in /home/shane/anaconda3/lib/python3.7/site-packages (from sphinx->smac==0.8->auto-sklearn) (1.0.2)\nRequirement already satisfied: imagesize in /home/shane/anaconda3/lib/python3.7/site-packages (from sphinx->smac==0.8->auto-sklearn) (1.1.0)\nRequirement already satisfied: snowballstemmer>=1.1 in /home/shane/anaconda3/lib/python3.7/site-packages (from sphinx->smac==0.8->auto-sklearn) (2.0.0)\nRequirement already satisfied: Pygments>=2.0 in /home/shane/anaconda3/lib/python3.7/site-packages (from sphinx->smac==0.8->auto-sklearn) (2.4.2)\nRequirement already satisfied: sphinxcontrib-jsmath in /home/shane/anaconda3/lib/python3.7/site-packages (from sphinx->smac==0.8->auto-sklearn) (1.0.1)\nRequirement already satisfied: sphinxcontrib-serializinghtml in /home/shane/anaconda3/lib/python3.7/site-packages (from sphinx->smac==0.8->auto-sklearn) (1.1.3)\nRequirement already satisfied: MarkupSafe>=0.23 in /home/shane/anaconda3/lib/python3.7/site-packages (from Jinja2>=2.3->sphinx->smac==0.8->auto-sklearn) (1.1.1)\nRequirement already satisfied: urllib3!=1.25.0,!=1.25.1,<1.26,>=1.21.1 in /home/shane/anaconda3/lib/python3.7/site-packages (from requests>=2.5.0->sphinx->smac==0.8->auto-sklearn) (1.24.2)\nRequirement already satisfied: idna<2.9,>=2.5 in /home/shane/anaconda3/lib/python3.7/site-packages (from requests>=2.5.0->sphinx->smac==0.8->auto-sklearn) (2.8)\nRequirement already satisfied: chardet<3.1.0,>=3.0.2 in /home/shane/anaconda3/lib/python3.7/site-packages (from requests>=2.5.0->sphinx->smac==0.8->auto-sklearn) (3.0.4)\nRequirement already satisfied: certifi>=2017.4.17 in /home/shane/anaconda3/lib/python3.7/site-packages (from requests>=2.5.0->sphinx->smac==0.8->auto-sklearn) (2019.9.11)\nBuilding wheels for collected packages: auto-sklearn, ConfigSpace, pyrfr\n  Building wheel for auto-sklearn (setup.py) ... \u001b[?25ldone\n\u001b[?25h  Created wheel for auto-sklearn: filename=auto_sklearn-0.5.2-cp37-cp37m-linux_x86_64.whl size=3719659 sha256=31bee7272069070860f3a0ddfcb77a89e4d4745e8eb75272ea3760ffbfb96339\n  Stored in directory: /home/shane/.cache/pip/wheels/67/21/43/182fed664b6474f88600c110c4ebd254d6256ba59175cef3fd\n  Building wheel for ConfigSpace (setup.py) ... \u001b[?25ldone\n\u001b[?25h  Created wheel for ConfigSpace: filename=ConfigSpace-0.4.11-cp37-cp37m-linux_x86_64.whl size=2909322 sha256=2861e34153320014b5c94c1804dab91e2a06c5568f36fe30f9804f212dd49d34\n  Stored in directory: /home/shane/.cache/pip/wheels/9f/bf/27/d224e97900342ebed7f81311458a572b557b99dd9492e00bf5\n  Building wheel for pyrfr (setup.py) ... \u001b[?25ldone\n\u001b[?25h  Created wheel for pyrfr: filename=pyrfr-0.7.4-cp37-cp37m-linux_x86_64.whl size=2516597 sha256=6f02cf373f617dd48c265b1d9a7f8b996927b2d6b968b486416eb295835bfcbb\n  Stored in directory: /home/shane/.cache/pip/wheels/fb/98/fd/b1d53cab6d5ed836980777d9733d7e549d82a727650eed6f6d\nSuccessfully built auto-sklearn ConfigSpace pyrfr\nInstalling collected packages: ConfigSpace, pynisher, pyrfr, typing, sphinx-rtd-theme, smac, auto-sklearn\nSuccessfully installed ConfigSpace-0.4.11 auto-sklearn-0.5.2 pynisher-0.5.0 pyrfr-0.7.4 smac-0.8.0 sphinx-rtd-theme-0.4.3 typing-3.7.4.1\nCPU times: user 3.26 s, sys: 1.39 s, total: 4.64 s\nWall time: 2min 2s\n"
        }
      ],
      "source": [
        "%%time\n",
        "#!pip uninstall -y scikit-image azureml-train-automl azureml-opendatasets azureml-automl-core\n",
        "!conda install gxx_linux-64 gcc_linux-64 swig --yes\n",
        "!pip install auto-sklearn"
      ]
    },
    {
      "cell_type": "code",
      "metadata": {
        "trusted": true
      },
      "outputs": [],
      "source": []
    },
    {
      "cell_type": "code",
      "metadata": {
        "trusted": true
      },
      "outputs": [],
      "source": []
    }
  ],
  "metadata": {
    "kernelspec": {
      "name": "python36",
      "display_name": "Python 3.6",
      "language": "python"
    },
    "language_info": {
      "mimetype": "text/x-python",
      "nbconvert_exporter": "python",
      "name": "python",
      "pygments_lexer": "ipython3",
      "version": "3.7.4",
      "file_extension": ".py",
      "codemirror_mode": {
        "version": 3,
        "name": "ipython"
      }
    }
  },
  "nbformat": 4,
  "nbformat_minor": 2
}