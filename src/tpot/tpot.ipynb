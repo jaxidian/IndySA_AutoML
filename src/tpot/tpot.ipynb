{
  "cells": [
    {
      "cell_type": "markdown",
      "metadata": {
        "collapsed": true
      },
      "outputs": [],
      "source": [
        "# tpot\n",
        "\n",
        "- https://github.com/EpistasisLab/tpot\n",
        "- http://epistasislab.github.io/tpot/"
      ]
    },
    {
      "cell_type": "code",
      "execution_count": 1,
      "metadata": {},
      "outputs": [
        {
          "name": "stdout",
          "output_type": "stream",
          "text": "Collecting deap\n  Downloading https://files.pythonhosted.org/packages/59/1a/830bdaae9b629f1b7627eec5d0c4845fad83206d087fa0d896392451e64e/deap-1.3.0-cp37-cp37m-win_amd64.whl (109kB)\nCollecting update_checker\n  Downloading https://files.pythonhosted.org/packages/17/c9/ab11855af164d03be0ff4fddd4c46a5bd44799a9ecc1770e01a669c21168/update_checker-0.16-py2.py3-none-any.whl\nCollecting tqdm\n  Downloading https://files.pythonhosted.org/packages/b9/08/8505f192efc72bfafec79655e1d8351d219e2b80b0dec4ae71f50934c17a/tqdm-4.38.0-py2.py3-none-any.whl (53kB)\nCollecting stopit\n  Downloading https://files.pythonhosted.org/packages/35/58/e8bb0b0fb05baf07bbac1450c447d753da65f9701f551dca79823ce15d50/stopit-1.1.2.tar.gz\nCollecting matplotlib\n  Downloading https://files.pythonhosted.org/packages/1a/c0/69e3f695d7384012e90be1e16570c08953baae00fd98094179ef87c7d5a2/matplotlib-3.1.1-cp37-cp37m-win_amd64.whl (9.1MB)\nCollecting numpy\n  Downloading https://files.pythonhosted.org/packages/34/40/c6eae19892551ff91bdb15f884fef2d42d6f58da55ab18fa540851b48a32/numpy-1.17.4-cp37-cp37m-win_amd64.whl (12.7MB)\nCollecting requests>=2.3.0\n  Downloading https://files.pythonhosted.org/packages/51/bd/23c926cd341ea6b7dd0b2a00aba99ae0f828be89d72b2190f27c11d4b7fb/requests-2.22.0-py2.py3-none-any.whl (57kB)\nCollecting cycler>=0.10\n  Downloading https://files.pythonhosted.org/packages/f7/d2/e07d3ebb2bd7af696440ce7e754c59dd546ffe1bbe732c8ab68b9c834e61/cycler-0.10.0-py2.py3-none-any.whl\nCollecting kiwisolver>=1.0.1\n  Downloading https://files.pythonhosted.org/packages/c6/ea/e5474014a13ab2dcb5056608e0716c600c3d8a8bcffb10ed55ccd6a42eb0/kiwisolver-1.1.0-cp37-none-win_amd64.whl (57kB)\nRequirement already satisfied: python-dateutil>=2.1 in c:\\users\\shane\\anaconda3\\envs\\indysa_automl_tpot\\lib\\site-packages (from matplotlib) (2.8.1)\nCollecting pyparsing!=2.0.4,!=2.1.2,!=2.1.6,>=2.0.1\n  Downloading https://files.pythonhosted.org/packages/c0/0c/fc2e007d9a992d997f04a80125b0f183da7fb554f1de701bbb70a8e7d479/pyparsing-2.4.5-py2.py3-none-any.whl (67kB)\nCollecting chardet<3.1.0,>=3.0.2\n  Downloading https://files.pythonhosted.org/packages/bc/a9/01ffebfb562e4274b6487b4bb1ddec7ca55ec7510b22e4c51f14098443b8/chardet-3.0.4-py2.py3-none-any.whl (133kB)\nRequirement already satisfied: certifi>=2017.4.17 in c:\\users\\shane\\anaconda3\\envs\\indysa_automl_tpot\\lib\\site-packages (from requests>=2.3.0->update_checker) (2019.9.11)\nCollecting idna<2.9,>=2.5\n  Downloading https://files.pythonhosted.org/packages/14/2c/cd551d81dbe15200be1cf41cd03869a46fe7226e7450af7a6545bfc474c9/idna-2.8-py2.py3-none-any.whl (58kB)\nCollecting urllib3!=1.25.0,!=1.25.1,<1.26,>=1.21.1\n  Downloading https://files.pythonhosted.org/packages/b4/40/a9837291310ee1ccc242ceb6ebfd9eb21539649f193a7c8c86ba15b98539/urllib3-1.25.7-py2.py3-none-any.whl (125kB)\nRequirement already satisfied: six in c:\\users\\shane\\anaconda3\\envs\\indysa_automl_tpot\\lib\\site-packages (from cycler>=0.10->matplotlib) (1.13.0)\nRequirement already satisfied: setuptools in c:\\users\\shane\\anaconda3\\envs\\indysa_automl_tpot\\lib\\site-packages (from kiwisolver>=1.0.1->matplotlib) (41.6.0.post20191030)\nBuilding wheels for collected packages: stopit\n  Building wheel for stopit (setup.py): started\n  Building wheel for stopit (setup.py): finished with status 'done'\n  Created wheel for stopit: filename=stopit-1.1.2-cp37-none-any.whl size=11961 sha256=7d8b1bace19b15bc3346bf0b4b45a4651b1463719c64dd2345cce051eaf0bdf3\n  Stored in directory: C:\\Users\\Shane\\AppData\\Local\\pip\\Cache\\wheels\\3c\\85\\2b\\2580190404636bfc63e8de3dff629c03bb795021e1983a6cc7\nSuccessfully built stopit\nInstalling collected packages: numpy, deap, chardet, idna, urllib3, requests, update-checker, tqdm, stopit, cycler, kiwisolver, pyparsing, matplotlib\nSuccessfully installed chardet-3.0.4 cycler-0.10.0 deap-1.3.0 idna-2.8 kiwisolver-1.1.0 matplotlib-3.1.1 numpy-1.17.4 pyparsing-2.4.5 requests-2.22.0 stopit-1.1.2 tqdm-4.38.0 update-checker-0.16 urllib3-1.25.7\nCollecting tpot\n  Downloading https://files.pythonhosted.org/packages/a5/29/f38a5751276cd901bca8f04ca9a98569a9d4eacd3236bc19a0bf0c834f74/TPOT-0.11.0.tar.gz (896kB)\nRequirement already satisfied: numpy>=1.16.3 in c:\\users\\shane\\anaconda3\\envs\\indysa_automl_tpot\\lib\\site-packages (from tpot) (1.17.4)\nCollecting scipy>=1.3.1\n  Downloading https://files.pythonhosted.org/packages/55/89/5a66a6be1720b823111d603abc975803a403f294e77fc8862fdafea4e005/scipy-1.3.2-cp37-cp37m-win_amd64.whl (30.5MB)\nCollecting scikit-learn>=0.21.0\n  Downloading https://files.pythonhosted.org/packages/d6/9e/6a42486ffa64711fb868e5d4a9167153417e7414c3d8d3e0d627cf391e1e/scikit_learn-0.21.3-cp37-cp37m-win_amd64.whl (5.9MB)\nRequirement already satisfied: deap>=1.2 in c:\\users\\shane\\anaconda3\\envs\\indysa_automl_tpot\\lib\\site-packages (from tpot) (1.3.0)\nRequirement already satisfied: update_checker>=0.16 in c:\\users\\shane\\anaconda3\\envs\\indysa_automl_tpot\\lib\\site-packages (from tpot) (0.16)\nRequirement already satisfied: tqdm>=4.36.1 in c:\\users\\shane\\anaconda3\\envs\\indysa_automl_tpot\\lib\\site-packages (from tpot) (4.38.0)\nRequirement already satisfied: stopit>=1.1.1 in c:\\users\\shane\\anaconda3\\envs\\indysa_automl_tpot\\lib\\site-packages (from tpot) (1.1.2)\nCollecting pandas>=0.24.2\n  Downloading https://files.pythonhosted.org/packages/02/d0/1e8e60e61e748338e3a40e42f5dfeee63ccdecfc4f0894122b890bfb009a/pandas-0.25.3-cp37-cp37m-win_amd64.whl (9.2MB)\nCollecting joblib>=0.13.2\n  Downloading https://files.pythonhosted.org/packages/8f/42/155696f85f344c066e17af287359c9786b436b1bf86029bb3411283274f3/joblib-0.14.0-py2.py3-none-any.whl (294kB)\nRequirement already satisfied: requests>=2.3.0 in c:\\users\\shane\\anaconda3\\envs\\indysa_automl_tpot\\lib\\site-packages (from update_checker>=0.16->tpot) (2.22.0)\nRequirement already satisfied: python-dateutil>=2.6.1 in c:\\users\\shane\\anaconda3\\envs\\indysa_automl_tpot\\lib\\site-packages (from pandas>=0.24.2->tpot) (2.8.1)\nCollecting pytz>=2017.2\n  Downloading https://files.pythonhosted.org/packages/e7/f9/f0b53f88060247251bf481fa6ea62cd0d25bf1b11a87888e53ce5b7c8ad2/pytz-2019.3-py2.py3-none-any.whl (509kB)\nRequirement already satisfied: certifi>=2017.4.17 in c:\\users\\shane\\anaconda3\\envs\\indysa_automl_tpot\\lib\\site-packages (from requests>=2.3.0->update_checker>=0.16->tpot) (2019.9.11)\nRequirement already satisfied: idna<2.9,>=2.5 in c:\\users\\shane\\anaconda3\\envs\\indysa_automl_tpot\\lib\\site-packages (from requests>=2.3.0->update_checker>=0.16->tpot) (2.8)\nRequirement already satisfied: chardet<3.1.0,>=3.0.2 in c:\\users\\shane\\anaconda3\\envs\\indysa_automl_tpot\\lib\\site-packages (from requests>=2.3.0->update_checker>=0.16->tpot) (3.0.4)\nRequirement already satisfied: urllib3!=1.25.0,!=1.25.1,<1.26,>=1.21.1 in c:\\users\\shane\\anaconda3\\envs\\indysa_automl_tpot\\lib\\site-packages (from requests>=2.3.0->update_checker>=0.16->tpot) (1.25.7)\nRequirement already satisfied: six>=1.5 in c:\\users\\shane\\anaconda3\\envs\\indysa_automl_tpot\\lib\\site-packages (from python-dateutil>=2.6.1->pandas>=0.24.2->tpot) (1.13.0)\nBuilding wheels for collected packages: tpot\n  Building wheel for tpot (setup.py): started\n  Building wheel for tpot (setup.py): finished with status 'done'\n  Created wheel for tpot: filename=TPOT-0.11.0-cp37-none-any.whl size=75689 sha256=742c0a34ad12f5622640890e5b84a68715adcede9d6f98826b9053fe0c8ac0b6\n  Stored in directory: C:\\Users\\Shane\\AppData\\Local\\pip\\Cache\\wheels\\5e\\79\\3b\\49ccea9a29f28d0cdecbca22d71515c23bf45e1e65bc925cb8\nSuccessfully built tpot\nInstalling collected packages: scipy, joblib, scikit-learn, pytz, pandas, tpot\nSuccessfully installed joblib-0.14.0 pandas-0.25.3 pytz-2019.3 scikit-learn-0.21.3 scipy-1.3.2 tpot-0.11.0\nWall time: 2min 31s\n"
        }
      ],
      "source": [
        "%%time\n",
        "# uncomment this first pip uninstall line for Azure Notebooks\n",
        "#!pip uninstall -y scikit-image azureml-train-automl azureml-opendatasets azureml-automl-core\n",
        "\n",
        "# rest of these lines are appropriate for both Azure Notebooks and VSCode with default new Anaconda3 environment\n",
        "!pip install deap update_checker tqdm stopit matplotlib\n",
        "#!pip install xgboost\n",
        "!pip install tpot\n",
        "\n",
        "# ~6.5 minutes on free Azure Notebooks & MyBinder\n",
        "# 1 minute on beefy workstation\n",
        "# 2.5 minutes on i7-6560 + NVMe SSD ultrabook "
      ]
    },
    {
      "cell_type": "code",
      "execution_count": 2,
      "metadata": {},
      "outputs": [
        {
          "name": "stdout",
          "output_type": "stream",
          "text": "Wall time: 14.6 s\n"
        }
      ],
      "source": [
        "%%time\n",
        "from tpot import TPOTClassifier\n",
        "from sklearn.datasets import load_digits\n",
        "from sklearn.model_selection import train_test_split"
      ]
    },
    {
      "cell_type": "code",
      "execution_count": 3,
      "metadata": {},
      "outputs": [],
      "source": [
        "#%%time\n",
        "digits = load_digits()\n",
        "#print(digits)"
      ]
    },
    {
      "cell_type": "code",
      "execution_count": 4,
      "metadata": {},
      "outputs": [
        {
          "data": {
            "text/plain": "<Figure size 640x480 with 0 Axes>"
          },
          "metadata": {},
          "output_type": "display_data"
        },
        {
          "data": {
            "text/plain": "<Figure size 480x480 with 1 Axes>"
          },
          "metadata": {},
          "output_type": "display_data"
        },
        {
          "data": {
            "text/plain": "<Figure size 480x480 with 1 Axes>"
          },
          "metadata": {},
          "output_type": "display_data"
        },
        {
          "data": {
            "text/plain": "<Figure size 480x480 with 1 Axes>"
          },
          "metadata": {},
          "output_type": "display_data"
        },
        {
          "data": {
            "text/plain": "<Figure size 480x480 with 1 Axes>"
          },
          "metadata": {},
          "output_type": "display_data"
        },
        {
          "data": {
            "text/plain": "<Figure size 480x480 with 1 Axes>"
          },
          "metadata": {},
          "output_type": "display_data"
        },
        {
          "name": "stdout",
          "output_type": "stream",
          "text": "Wall time: 874 ms\n"
        }
      ],
      "source": [
        "%%time\n",
        "import matplotlib.pyplot as plt\n",
        "plt.gray()\n",
        "plt.set_cmap('gray_r')\n",
        "plt.matshow(digits.images[0])\n",
        "plt.show()\n",
        "plt.matshow(digits.images[10])\n",
        "plt.show()\n",
        "plt.matshow(digits.images[1])\n",
        "plt.show()\n",
        "plt.matshow(digits.images[11])\n",
        "plt.show()\n",
        "plt.matshow(digits.images[1234])\n",
        "plt.show()"
      ]
    },
    {
      "cell_type": "markdown",
      "execution_count": null,
      "metadata": {},
      "outputs": [],
      "source": [
        "train_test_split outputs:\n",
        "\n",
        "- X_train: Training Data\n",
        "- X_test: Testing Data\n",
        "- y_train: Training Answers\n",
        "- y_test: Testing Answers"
      ]
    },
    {
      "cell_type": "code",
      "execution_count": 5,
      "metadata": {},
      "outputs": [
        {
          "name": "stdout",
          "output_type": "stream",
          "text": "Wall time: 4.99 ms\n"
        }
      ],
      "source": [
        "%%time\n",
        "#training_features, testing_features, training_target, testing_target\n",
        "X_train, X_test, y_train, y_test = train_test_split(\n",
        "    digits.data, digits.target, random_state=42,\n",
        "    train_size=0.05, test_size=0.25)\n",
        "#   train_size=0.75, test_size=0.25)"
      ]
    },
    {
      "cell_type": "code",
      "execution_count": 6,
      "metadata": {},
      "outputs": [
        {
          "name": "stdout",
          "output_type": "stream",
          "text": "Wall time: 0 ns\n"
        }
      ],
      "source": [
        "%%time\n",
        "tpot = TPOTClassifier(generations=1, population_size=50, verbosity=2, random_state=42)\n",
        "#tpot = TPOTClassifier(generations=5, population_size=50, verbosity=2, random_state=42)"
      ]
    },
    {
      "cell_type": "code",
      "execution_count": 7,
      "metadata": {},
      "outputs": [
        {
          "name": "stdout",
          "output_type": "stream",
          "text": "Warning: xgboost.XGBClassifier is not available and will not be used by TPOT.\nOptimization Progress: 100%|██████████| 100/100 [02:42<00:00,  1.80s/pipeline]Generation 1 - Current best internal CV score: 0.8565873015873017\n\nBest pipeline: LogisticRegression(input_matrix, C=25.0, dual=False, penalty=l1)\nWall time: 2min 55s\n"
        },
        {
          "data": {
            "text/plain": "TPOTClassifier(config_dict=None, crossover_rate=0.1, cv=5,\n               disable_update_check=False, early_stop=None, generations=1,\n               max_eval_time_mins=5, max_time_mins=None, memory=None,\n               mutation_rate=0.9, n_jobs=1, offspring_size=None,\n               periodic_checkpoint_folder=None, population_size=50,\n               random_state=42, scoring=None, subsample=1.0, template=None,\n               use_dask=False, verbosity=2, warm_start=False)"
          },
          "execution_count": 7,
          "metadata": {},
          "output_type": "execute_result"
        }
      ],
      "source": [
        "%%time\n",
        "tpot.fit(X_train, y_train)\n",
        "\n",
        "# train_size=0.05, generations=1:\n",
        "# ~15 minutes on free Azure Notebook & MyBinder (when it works - seems buggy)\n",
        "# ~1 minute on beefy workstation - 85-87% accurate\n",
        "# ~3 minutes on i7/ssd ultrabook\n",
        "\n",
        "# train_size=0.75, generations=5:\n",
        "# ?? on free Azure Notebook & MyBinder (no thanks)\n",
        "# ~24 minutes on beefy workstation - 98.3-98.9% accurate"
      ]
    },
    {
      "cell_type": "code",
      "execution_count": 8,
      "metadata": {},
      "outputs": [
        {
          "name": "stdout",
          "output_type": "stream",
          "text": "0.8666666666666667\nWall time: 3.99 ms\n"
        }
      ],
      "source": [
        "%%time\n",
        "print(tpot.score(X_test, y_test))"
      ]
    },
    {
      "cell_type": "code",
      "execution_count": 9,
      "metadata": {},
      "outputs": [
        {
          "name": "stdout",
          "output_type": "stream",
          "text": "Wall time: 12 ms\n"
        }
      ],
      "source": [
        "%%time\n",
        "tpot.export('tpot_digits_pipeline.gen.py')"
      ]
    },
    {
      "cell_type": "code",
      "execution_count": null,
      "metadata": {},
      "outputs": [],
      "source": []
    }
  ],
  "metadata": {
    "kernelspec": {
      "name": "python36",
      "display_name": "Python 3.6",
      "language": "python"
    },
    "language_info": {
      "mimetype": "text/x-python",
      "nbconvert_exporter": "python",
      "name": "python",
      "pygments_lexer": "ipython3",
      "version": "3.6.6",
      "file_extension": ".py",
      "codemirror_mode": {
        "version": 3,
        "name": "ipython"
      }
    }
  },
  "nbformat": 4,
  "nbformat_minor": 2
}